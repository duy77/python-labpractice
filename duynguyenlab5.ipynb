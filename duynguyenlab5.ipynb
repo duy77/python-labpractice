{
 "cells": [
  {
   "cell_type": "code",
   "execution_count": 1,
   "metadata": {},
   "outputs": [
    {
     "name": "stdout",
     "output_type": "stream",
     "text": [
      "{\n",
      "  \"user_id\": 1,\n",
      "  \"first_name\": \"john\",\n",
      "  \"last_name\": \"smith\"\n",
      "}\n",
      "{\n",
      "  \"account_id\": 1,\n",
      "  \"balance\": 5000\n",
      "}\n",
      "{  \"customers\":[    \"{\\n  \\\"user_id\\\": 1,\\n  \\\"first_name\\\": \\\"john\\\",\\n  \\\"last_name\\\": \\\"smith\\\"\\n}\",    \"{\\n  \\\"user_id\\\": 2,\\n  \\\"first_name\\\": \\\"Jane\\\",\\n  \\\"last_name\\\": \\\"Doe\\\"\\n}\"  ],  \"accounts\":[    \"{\\n  \\\"account_id\\\": 1,\\n  \\\"balance\\\": 5000\\n}\"  ]}\n"
     ]
    }
   ],
   "source": [
    "import json\n",
    "\n",
    "class customers:\n",
    "    def __init__(self, user_id, first_name, last_name):\n",
    "        self.user_id = user_id\n",
    "        self.first_name = first_name\n",
    "        self.last_name= last_name\n",
    "\n",
    "    def to_json(self):\n",
    "        return json.dumps({\n",
    "            \"user_id\": self.user_id,\n",
    "            \"first_name\": self.first_name,\n",
    "            \"last_name\": self.last_name,   \n",
    "        },indent=2)\n",
    "\n",
    "john = customers(1, 'john', 'smith')\n",
    "\n",
    "print(john.to_json())  # Corrected method call\n",
    "\n",
    "class accounts:\n",
    "    def __init__(self, account_id, balance):\n",
    "        self.account_id = account_id\n",
    "        self.balance = balance\n",
    "\n",
    "    def to_json(self):\n",
    "        return json.dumps({\n",
    "            \"account_id\": self.account_id,\n",
    "            \"balance\": self.balance       \n",
    "        },indent=2)\n",
    "        \n",
    "john_account = accounts(1, 5000)\n",
    "print(john_account.to_json())\n",
    "\n",
    "class Bank:\n",
    "    def __init__(self):\n",
    "        self.customers = []\n",
    "        self.accounts = []\n",
    "\n",
    "    def add_customer(self, customer):\n",
    "        self.customers.append(customer)\n",
    "\n",
    "    def remove_customer(self, customer):\n",
    "        self.customers.remove(customer)\n",
    "\n",
    "    def add_account(self, account):\n",
    "        self.accounts.append(account)\n",
    "\n",
    "    def remove_account(self, account):\n",
    "        self.accounts.remove(account)\n",
    "\n",
    "    def to_json(self):\n",
    "        customers_json = [customer.to_json() for customer in self.customers]\n",
    "        accounts_json = [account.to_json() for account in self.accounts]\n",
    "        \n",
    "        return json.dumps({\n",
    "            \"customers\": customers_json,\n",
    "            \"accounts\": accounts_json\n",
    "        },indent=2,separators=(',', ':')).replace('\\n', '')\n",
    "        \n",
    "      \n",
    "        \n",
    "bank = Bank()\n",
    "bank.add_customer(john)\n",
    "bank.add_customer(customers(2, \"Jane\", \"Doe\"))\n",
    "bank.add_account(john_account)\n",
    "\n",
    "print(bank.to_json())\n"
   ]
  },
  {
   "cell_type": "code",
   "execution_count": null,
   "metadata": {},
   "outputs": [],
   "source": []
  }
 ],
 "metadata": {
  "kernelspec": {
   "display_name": "Python 3",
   "language": "python",
   "name": "python3"
  },
  "language_info": {
   "codemirror_mode": {
    "name": "ipython",
    "version": 3
   },
   "file_extension": ".py",
   "mimetype": "text/x-python",
   "name": "python",
   "nbconvert_exporter": "python",
   "pygments_lexer": "ipython3",
   "version": "3.8.3"
  }
 },
 "nbformat": 4,
 "nbformat_minor": 4
}
